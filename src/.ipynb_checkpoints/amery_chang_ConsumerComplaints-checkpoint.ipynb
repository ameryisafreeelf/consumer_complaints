{
 "cells": [
  {
   "cell_type": "code",
   "execution_count": 2,
   "metadata": {},
   "outputs": [],
   "source": [
    "path = \"./example_input.csv\"\n",
    "f = open(path,\"r\")\n",
    "contents = f.read()\n",
    "tupes = []\n",
    "for i in contents.split('\\n'):\n",
    "    tupes.append(i)"
   ]
  },
  {
   "cell_type": "code",
   "execution_count": 5,
   "metadata": {},
   "outputs": [
    {
     "data": {
      "text/plain": [
       "'Date received,Product,Sub-product,Issue,Sub-issue,Consumer complaint narrative,Company public response,Company,State,ZIP code,Tags,Consumer consent provided?,Submitted via,Date sent to company,Company response to consumer,Timely response?,Consumer disputed?,Complaint ID\\n2019-09-24,Debt collection,I do not know,Attempts to collect debt not owed,Debt is not yours,\"transworld systems inc. is trying to collect a debt that is not mine, not owed and is inaccurate.\",,TRANSWORLD SYSTEMS INC,FL,335XX,,Consent provided,Web,2019-09-24,Closed with explanation,Yes,N/A,3384392\\n2019-09-19,\"Credit reporting, credit repair services, or other personal consumer reports\",Credit reporting,Incorrect information on your report,Information belongs to someone else,,Company has responded to the consumer and the CFPB and chooses not to provide a public response,Experian Information Solutions Inc.,PA,15206,,Consent not provided,Web,2019-09-20,Closed with non-monetary relief,Yes,N/A,3379500\\n2020-01-06,\"Credit reporting, credit repair services, or other personal consumer reports\",Credit reporting,Incorrect information on your report,Information belongs to someone else,,,Experian Information Solutions Inc.,CA,92532,,N/A,Email,2020-01-06,In progress,Yes,N/A,3486776\\n2019-10-24,\"Credit reporting, credit repair services, or other personal consumer reports\",Credit reporting,Incorrect information on your report,Information belongs to someone else,,Company has responded to the consumer and the CFPB and chooses not to provide a public response,\"TRANSUNION INTERMEDIATE HOLDINGS, INC.\",CA,925XX,,Other,Web,2019-10-24,Closed with explanation,Yes,N/A,3416481\\n2019-11-20,\"Credit reporting, credit repair services, or other personal consumer reports\",Credit reporting,Incorrect information on your report,Account information incorrect,I would like the credit bureau to correct my XXXX XXXX XXXX XXXX balance. My correct balance is XXXX,Company has responded to the consumer and the CFPB and chooses not to provide a public response,\"TRANSUNION INTERMEDIATE HOLDINGS, INC.\",TX,77004,,Consent provided,Web,2019-11-20,Closed with explanation,Yes,N/A,3444592'"
      ]
     },
     "execution_count": 5,
     "metadata": {},
     "output_type": "execute_result"
    }
   ],
   "source": [
    "contents"
   ]
  },
  {
   "cell_type": "code",
   "execution_count": 58,
   "metadata": {},
   "outputs": [
    {
     "data": {
      "text/plain": [
       "['Date received,Product,Sub-product,Issue,Sub-issue,Consumer complaint narrative,Company public response,Company,State,ZIP code,Tags,Consumer consent provided?,Submitted via,Date sent to company,Company response to consumer,Timely response?,Consumer disputed?,Complaint ID',\n",
       " '2019-09-24,Debt collection,I do not know,Attempts to collect debt not owed,Debt is not yours,\"transworld systems inc. is trying to collect a debt that is not mine, not owed and is inaccurate.\",,TRANSWORLD SYSTEMS INC,FL,335XX,,Consent provided,Web,2019-09-24,Closed with explanation,Yes,N/A,3384392',\n",
       " '2019-09-19,\"Credit reporting, credit repair services, or other personal consumer reports\",Credit reporting,Incorrect information on your report,Information belongs to someone else,,Company has responded to the consumer and the CFPB and chooses not to provide a public response,Experian Information Solutions Inc.,PA,15206,,Consent not provided,Web,2019-09-20,Closed with non-monetary relief,Yes,N/A,3379500',\n",
       " '2020-01-06,\"Credit reporting, credit repair services, or other personal consumer reports\",Credit reporting,Incorrect information on your report,Information belongs to someone else,,,Experian Information Solutions Inc.,CA,92532,,N/A,Email,2020-01-06,In progress,Yes,N/A,3486776',\n",
       " '2019-10-24,\"Credit reporting, credit repair services, or other personal consumer reports\",Credit reporting,Incorrect information on your report,Information belongs to someone else,,Company has responded to the consumer and the CFPB and chooses not to provide a public response,\"TRANSUNION INTERMEDIATE HOLDINGS, INC.\",CA,925XX,,Other,Web,2019-10-24,Closed with explanation,Yes,N/A,3416481',\n",
       " '2019-11-20,\"Credit reporting, credit repair services, or other personal consumer reports\",Credit reporting,Incorrect information on your report,Account information incorrect,I would like the credit bureau to correct my XXXX XXXX XXXX XXXX balance. My correct balance is XXXX,Company has responded to the consumer and the CFPB and chooses not to provide a public response,\"TRANSUNION INTERMEDIATE HOLDINGS, INC.\",TX,77004,,Consent provided,Web,2019-11-20,Closed with explanation,Yes,N/A,3444592']"
      ]
     },
     "execution_count": 58,
     "metadata": {},
     "output_type": "execute_result"
    }
   ],
   "source": [
    "tupes"
   ]
  },
  {
   "cell_type": "code",
   "execution_count": 59,
   "metadata": {},
   "outputs": [],
   "source": [
    "# So we can see from this that there are 18 columns in this example\n",
    "\n",
    "# This will properly parse the input\n",
    "# The issue was that we need to navigate around quotation marks in our CSV. Clearly, a string that contains commas within \n",
    "# quotation marks is still just one field. \n",
    "\n",
    "def parseLine(line, records):\n",
    "    \"\"\"\n",
    "    Input: One line (record) in a CSV file, one list that we want to append to\n",
    "    Output: Void, the side-effect is that a line is parsed and added to records (a list of lists)\n",
    "    \n",
    "    This parses a line of the CSV without calling any functions outside of standard Python. The edge case we need to check for \n",
    "    is values in quotation marks. If one of our values is \"Mark, the data engineer, says hi\", this has to be parsed as one value \n",
    "    and we clearly cannot split at commas within the quotations. We handle this by essentially using ad-hoc parsing to look for \n",
    "    quotation mark. \n",
    "    \n",
    "    Testing- check that all lists within records are the same length. Since the first length denotes column headers, ensure that\n",
    "    they are all the same length as the first list in records.\n",
    "    \"\"\"\n",
    "    fields = []                  # Holds the parsed CSV values for one line\n",
    "    i = 0                        # \"Pointer\"\n",
    "    buff = \"\"                    # Temporary string builder for holding parsed fields\n",
    "    while i < len(line):\n",
    "        # If the line begins with a quotation, then everything from this quotation mark to the next is one value\n",
    "        if line[i] == '\"':\n",
    "            i += 1\n",
    "            while line[i] != '\"':\n",
    "                buff += line[i]\n",
    "                i += 1\n",
    "            i += 1\n",
    "        else:\n",
    "        # If not, the value we extract either goes until the next comma, or the end of the line\n",
    "            while line[i] != ',' and i != len(line) - 1:\n",
    "                buff += line[i]\n",
    "                i += 1\n",
    "        fields.append(buff)\n",
    "        buff = \"\"\n",
    "        i += 1\n",
    "    records.append(fields)"
   ]
  },
  {
   "cell_type": "code",
   "execution_count": 60,
   "metadata": {},
   "outputs": [],
   "source": [
    "myRecords = []\n",
    "\n",
    "for i in tupes:\n",
    "    parseLine(i, myRecords)"
   ]
  },
  {
   "cell_type": "code",
   "execution_count": 61,
   "metadata": {
    "collapsed": true
   },
   "outputs": [
    {
     "data": {
      "text/plain": [
       "[['Date received',\n",
       "  'Product',\n",
       "  'Sub-product',\n",
       "  'Issue',\n",
       "  'Sub-issue',\n",
       "  'Consumer complaint narrative',\n",
       "  'Company public response',\n",
       "  'Company',\n",
       "  'State',\n",
       "  'ZIP code',\n",
       "  'Tags',\n",
       "  'Consumer consent provided?',\n",
       "  'Submitted via',\n",
       "  'Date sent to company',\n",
       "  'Company response to consumer',\n",
       "  'Timely response?',\n",
       "  'Consumer disputed?',\n",
       "  'Complaint I'],\n",
       " ['2019-09-24',\n",
       "  'Debt collection',\n",
       "  'I do not know',\n",
       "  'Attempts to collect debt not owed',\n",
       "  'Debt is not yours',\n",
       "  'transworld systems inc. is trying to collect a debt that is not mine, not owed and is inaccurate.',\n",
       "  '',\n",
       "  'TRANSWORLD SYSTEMS INC',\n",
       "  'FL',\n",
       "  '335XX',\n",
       "  '',\n",
       "  'Consent provided',\n",
       "  'Web',\n",
       "  '2019-09-24',\n",
       "  'Closed with explanation',\n",
       "  'Yes',\n",
       "  'N/A',\n",
       "  '338439'],\n",
       " ['2019-09-19',\n",
       "  'Credit reporting, credit repair services, or other personal consumer reports',\n",
       "  'Credit reporting',\n",
       "  'Incorrect information on your report',\n",
       "  'Information belongs to someone else',\n",
       "  '',\n",
       "  'Company has responded to the consumer and the CFPB and chooses not to provide a public response',\n",
       "  'Experian Information Solutions Inc.',\n",
       "  'PA',\n",
       "  '15206',\n",
       "  '',\n",
       "  'Consent not provided',\n",
       "  'Web',\n",
       "  '2019-09-20',\n",
       "  'Closed with non-monetary relief',\n",
       "  'Yes',\n",
       "  'N/A',\n",
       "  '337950'],\n",
       " ['2020-01-06',\n",
       "  'Credit reporting, credit repair services, or other personal consumer reports',\n",
       "  'Credit reporting',\n",
       "  'Incorrect information on your report',\n",
       "  'Information belongs to someone else',\n",
       "  '',\n",
       "  '',\n",
       "  'Experian Information Solutions Inc.',\n",
       "  'CA',\n",
       "  '92532',\n",
       "  '',\n",
       "  'N/A',\n",
       "  'Email',\n",
       "  '2020-01-06',\n",
       "  'In progress',\n",
       "  'Yes',\n",
       "  'N/A',\n",
       "  '348677'],\n",
       " ['2019-10-24',\n",
       "  'Credit reporting, credit repair services, or other personal consumer reports',\n",
       "  'Credit reporting',\n",
       "  'Incorrect information on your report',\n",
       "  'Information belongs to someone else',\n",
       "  '',\n",
       "  'Company has responded to the consumer and the CFPB and chooses not to provide a public response',\n",
       "  'TRANSUNION INTERMEDIATE HOLDINGS, INC.',\n",
       "  'CA',\n",
       "  '925XX',\n",
       "  '',\n",
       "  'Other',\n",
       "  'Web',\n",
       "  '2019-10-24',\n",
       "  'Closed with explanation',\n",
       "  'Yes',\n",
       "  'N/A',\n",
       "  '341648'],\n",
       " ['2019-11-20',\n",
       "  'Credit reporting, credit repair services, or other personal consumer reports',\n",
       "  'Credit reporting',\n",
       "  'Incorrect information on your report',\n",
       "  'Account information incorrect',\n",
       "  'I would like the credit bureau to correct my XXXX XXXX XXXX XXXX balance. My correct balance is XXXX',\n",
       "  'Company has responded to the consumer and the CFPB and chooses not to provide a public response',\n",
       "  'TRANSUNION INTERMEDIATE HOLDINGS, INC.',\n",
       "  'TX',\n",
       "  '77004',\n",
       "  '',\n",
       "  'Consent provided',\n",
       "  'Web',\n",
       "  '2019-11-20',\n",
       "  'Closed with explanation',\n",
       "  'Yes',\n",
       "  'N/A',\n",
       "  '344459']]"
      ]
     },
     "execution_count": 61,
     "metadata": {},
     "output_type": "execute_result"
    }
   ],
   "source": [
    "myRecords"
   ]
  },
  {
   "cell_type": "code",
   "execution_count": 62,
   "metadata": {
    "collapsed": true
   },
   "outputs": [
    {
     "name": "stdout",
     "output_type": "stream",
     "text": [
      "18\n",
      "18\n",
      "18\n",
      "18\n",
      "18\n",
      "18\n"
     ]
    }
   ],
   "source": [
    "for i in myRecords:\n",
    "    print(len(i))"
   ]
  },
  {
   "cell_type": "code",
   "execution_count": 64,
   "metadata": {},
   "outputs": [],
   "source": [
    "# Use a dictionary to hold indices of fields\n",
    "schemaIndices = {}\n",
    "index = 0\n",
    "for i in myRecords[0]:\n",
    "    schemaIndices[i] = index\n",
    "    index += 1"
   ]
  },
  {
   "cell_type": "code",
   "execution_count": 65,
   "metadata": {},
   "outputs": [
    {
     "data": {
      "text/plain": [
       "{'Date received': 0,\n",
       " 'Product': 1,\n",
       " 'Sub-product': 2,\n",
       " 'Issue': 3,\n",
       " 'Sub-issue': 4,\n",
       " 'Consumer complaint narrative': 5,\n",
       " 'Company public response': 6,\n",
       " 'Company': 7,\n",
       " 'State': 8,\n",
       " 'ZIP code': 9,\n",
       " 'Tags': 10,\n",
       " 'Consumer consent provided?': 11,\n",
       " 'Submitted via': 12,\n",
       " 'Date sent to company': 13,\n",
       " 'Company response to consumer': 14,\n",
       " 'Timely response?': 15,\n",
       " 'Consumer disputed?': 16,\n",
       " 'Complaint I': 17}"
      ]
     },
     "execution_count": 65,
     "metadata": {},
     "output_type": "execute_result"
    }
   ],
   "source": [
    "schemaIndices"
   ]
  },
  {
   "cell_type": "code",
   "execution_count": 81,
   "metadata": {},
   "outputs": [],
   "source": [
    "# Use a dictionary to get unique sets of <Product, Year>\n",
    "# We should be able to use one pass through the records to keep counts of the aggregate measures we need \n",
    "# <Total Complaints> <Total number of companies receiving complaints> <Percentage of complaints filed against one company>\n",
    "\n",
    "# This will get us the correct indices to look in for any particular tuple\n",
    "productInd = schemaIndices[\"Product\"]\n",
    "# We need to assume that the year will be reasonably well-formed\n",
    "yearIndex = schemaIndices[\"Date received\"]\n",
    "companyIndex = schemaIndices[\"Company\"]"
   ]
  },
  {
   "cell_type": "code",
   "execution_count": 82,
   "metadata": {},
   "outputs": [],
   "source": [
    "def getDate(dateField):\n",
    "    return dateField[0:4]"
   ]
  },
  {
   "cell_type": "code",
   "execution_count": 85,
   "metadata": {},
   "outputs": [
    {
     "data": {
      "text/plain": [
       "'Experian Information Solutions Inc.'"
      ]
     },
     "execution_count": 85,
     "metadata": {},
     "output_type": "execute_result"
    }
   ],
   "source": [
    "myRecords[2][companyIndex]"
   ]
  },
  {
   "cell_type": "code",
   "execution_count": 105,
   "metadata": {},
   "outputs": [],
   "source": [
    "# Key is a tuple<Product, Year>, Value is number of complaints\n",
    "complaintsCountDict = {}\n",
    "# Key is tuple<Product, Year>, Value is a Dictionary of <Company Name, # of Complaints>\n",
    "companyCountsDict = {}\n",
    "\n",
    "# Work on getting keys first\n",
    "for i in myRecords[1:len(myRecords)]:\n",
    "    keyPair = ( i[productInd], getDate(i[yearIndex]) )\n",
    "    if keyPair in complaintsCountDict: \n",
    "        complaintsCountDict[keyPair] += 1\n",
    "    else:\n",
    "        complaintsCountDict[keyPair] = 1\n",
    "    if keyPair not in companyCountsDict:\n",
    "        companyCountsDict[keyPair] = {}\n",
    "    companyName = i[companyIndex]\n",
    "    if companyName not in companyCountsDict[keyPair]:\n",
    "        companyCountsDict[keyPair][companyName] = 1\n",
    "    else:\n",
    "        companyCountsDict[keyPair][companyName] += 1"
   ]
  },
  {
   "cell_type": "code",
   "execution_count": 106,
   "metadata": {},
   "outputs": [
    {
     "data": {
      "text/plain": [
       "{('Debt collection', '2019'): 1,\n",
       " ('Credit reporting, credit repair services, or other personal consumer reports',\n",
       "  '2019'): 3,\n",
       " ('Credit reporting, credit repair services, or other personal consumer reports',\n",
       "  '2020'): 1}"
      ]
     },
     "execution_count": 106,
     "metadata": {},
     "output_type": "execute_result"
    }
   ],
   "source": [
    "complaintsCountDict"
   ]
  },
  {
   "cell_type": "code",
   "execution_count": 107,
   "metadata": {},
   "outputs": [
    {
     "data": {
      "text/plain": [
       "{('Debt collection', '2019'): {'TRANSWORLD SYSTEMS INC': 1},\n",
       " ('Credit reporting, credit repair services, or other personal consumer reports',\n",
       "  '2019'): {'Experian Information Solutions Inc.': 1,\n",
       "  'TRANSUNION INTERMEDIATE HOLDINGS, INC.': 2},\n",
       " ('Credit reporting, credit repair services, or other personal consumer reports',\n",
       "  '2020'): {'Experian Information Solutions Inc.': 1}}"
      ]
     },
     "execution_count": 107,
     "metadata": {},
     "output_type": "execute_result"
    }
   ],
   "source": [
    "companyCountsDict"
   ]
  },
  {
   "cell_type": "code",
   "execution_count": 283,
   "metadata": {},
   "outputs": [
    {
     "name": "stdout",
     "output_type": "stream",
     "text": [
      "<class 'dict'>\n",
      "<class 'dict'>\n",
      "<class 'dict'>\n"
     ]
    }
   ],
   "source": [
    "for i in companyCountsDict.values():\n",
    "    for k in i:\n",
    "        "
   ]
  },
  {
   "cell_type": "code",
   "execution_count": 349,
   "metadata": {},
   "outputs": [],
   "source": [
    "def getOutputList(records):\n",
    "    outputList = []\n",
    "    line = \"\"\n",
    "    for k, v in records.items():\n",
    "        if ',' in k[0]:\n",
    "            line += '\"' + k[0].lower() + '\",' + k[1] + \",\"\n",
    "        else:\n",
    "            line += k[0].lower() + \",\" + k[1] + \",\"\n",
    "        totalComplaints = 0\n",
    "        maxComplaints = 0\n",
    "        for i in v.values():\n",
    "            totalComplaints += i\n",
    "            if i > maxComplaints:\n",
    "                maxComplaints = i\n",
    "        # Calculate the ratio of maxComplaints to totalComplaints \n",
    "        # This denotes the highest number of complaints against one company\n",
    "        ratio = maxComplaints/totalComplaints\n",
    "        ratio *= 100\n",
    "        if not ratio.is_integer():\n",
    "            ratio += 1\n",
    "        ratio = int(ratio)\n",
    "        complaintsAgainstMax = ratio\n",
    "        line += str(totalComplaints) + \",\" + str(maxComplaints) + \",\" + str(complaintsAgainstMax)\n",
    "        outputList.append(line)\n",
    "        line = \"\"\n",
    "    return sorted(outputList)"
   ]
  },
  {
   "cell_type": "code",
   "execution_count": 352,
   "metadata": {},
   "outputs": [],
   "source": [
    "myOutputList = getOutputList(companyCountsDict)"
   ]
  },
  {
   "cell_type": "code",
   "execution_count": 353,
   "metadata": {},
   "outputs": [
    {
     "name": "stdout",
     "output_type": "stream",
     "text": [
      "\"credit reporting, credit repair services, or other personal consumer reports\",2019,3,2,67\n",
      "\"credit reporting, credit repair services, or other personal consumer reports\",2020,1,1,100\n",
      "debt collection,2019,1,1,100\n"
     ]
    }
   ],
   "source": [
    "for i in myOutputList:\n",
    "    print(i)"
   ]
  }
 ],
 "metadata": {
  "kernelspec": {
   "display_name": "Python 3",
   "language": "python",
   "name": "python3"
  },
  "language_info": {
   "codemirror_mode": {
    "name": "ipython",
    "version": 3
   },
   "file_extension": ".py",
   "mimetype": "text/x-python",
   "name": "python",
   "nbconvert_exporter": "python",
   "pygments_lexer": "ipython3",
   "version": "3.6.5"
  }
 },
 "nbformat": 4,
 "nbformat_minor": 2
}
